{
 "cells": [
  {
   "cell_type": "markdown",
   "metadata": {},
   "source": [
    "# Business Problem"
   ]
  },
  {
   "cell_type": "markdown",
   "metadata": {},
   "source": [
    "Road accidents are one of the most common causes of death all over the world. Yet, there are multiple ways in which such accidents can be predicted much before they occur. There are a number of factors and circumstances that lead to a road accident. Such factors, if studied carefully, courld reveal a lot of valuable information. We could use this information to not just evaluate the reasons for such occurances but also predict an accident. This would help in preventing accidents from taking placce and hence has the potential to save a large number of lives. In this project I have made an attempt to use data about accidents and through machine learning, develop solutions for road accidents."
   ]
  },
  {
   "cell_type": "markdown",
   "metadata": {},
   "source": [
    "# Data"
   ]
  },
  {
   "cell_type": "markdown",
   "metadata": {},
   "source": [
    "The dataset that has been taken from the link: https://s3.us.cloud-object-storage.appdomain.cloud/cf-courses-data/CognitiveClass/DP0701EN/version-2/Data-Collisions.csv. Our target variable is Severity Code. This project would use the independent variables in the given dataset to predict possibilty of an accident due to those factors. Data refining would be required. Regression analysis would be used."
   ]
  }
 ],
 "metadata": {
  "kernelspec": {
   "display_name": "Python 3",
   "language": "python",
   "name": "python3"
  },
  "language_info": {
   "codemirror_mode": {
    "name": "ipython",
    "version": 3
   },
   "file_extension": ".py",
   "mimetype": "text/x-python",
   "name": "python",
   "nbconvert_exporter": "python",
   "pygments_lexer": "ipython3",
   "version": "3.6.10"
  }
 },
 "nbformat": 4,
 "nbformat_minor": 4
}
